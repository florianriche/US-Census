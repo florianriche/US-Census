{
 "metadata": {
  "name": ""
 },
 "nbformat": 3,
 "nbformat_minor": 0,
 "worksheets": [
  {
   "cells": [
    {
     "cell_type": "heading",
     "level": 1,
     "metadata": {},
     "source": [
      "US CENSUS ANALYSIS"
     ]
    },
    {
     "cell_type": "heading",
     "level": 2,
     "metadata": {},
     "source": [
      "OBJECTIVES"
     ]
    },
    {
     "cell_type": "markdown",
     "metadata": {},
     "source": [
      "The goal of this project is to describe the expected income of US inhabitants based on their caracteristics such as education, age, gender...\n",
      "\n",
      "The goal field is the *total person income* which is defined by the US bureau of economic analysis as : \n",
      ">*Income received by persons from all sources. It includes income received from participation in production as well as from government and business transfer payments. It is the sum of compensation of employees (received), supplements to wages and salaries, proprietors' income with inventory valuation adjustment (IVA) and capital consumption adjustment (CCAdj), rental income of persons with CCAdj, personal income receipts on assets, and personal current transfer receipts, less contributions for government social insurance.[1]*\n",
      "\n",
      "Hence, we need not only to take into account the work revenus but also the capital revenues as well as potential social benefits."
     ]
    },
    {
     "cell_type": "heading",
     "level": 2,
     "metadata": {},
     "source": [
      "DATASET"
     ]
    },
    {
     "cell_type": "markdown",
     "metadata": {},
     "source": [
      "The Dataset is composed of 42 Variables and more than 300 000 observations:\n",
      "\n",
      "* The learning set is composed of 199523 observations\n",
      "\n",
      "* The test set is composed of 99762 observations\n",
      "\n",
      "Below is a description of the different columns that appear in the Dataset: \n",
      "\n",
      "|Description|Code|Example|\n",
      "|-----------------------------|-----|\n",
      "| Age\t\t\t\t\t\t|AAGE|25|\n",
      "| Class of worker\t\t\t\t|ACLSWKR|Self-employed|\n",
      "| Industry code\t\t\t\t\t|ADTIND|4|\n",
      "| Occupation code\t\t\t\t|ADTOCC|34|\n",
      "| Education\t\t\t\t\t|AHGA| Some college but no degree |\n",
      "| Wage per hour\t\t\t\t\t|AHRSPAY|870|\n",
      "| Enrolled in edu inst last wk\t\t\t|AHSCOL|High School\n",
      "| Marital status\t\t\t\t|AMARITL|Divorced|\n",
      "| Major industry code\t\t\t\t|AMJIND|Construction|\n",
      "| Major occupation code\t\t\t\t|AMJOCC|Sales|\n",
      "| Race\t\t\t\t\t\t|ARACE|White|\n",
      "| Hispanic Origin\t\t\t\t|AREORGN|Mexican-American|\n",
      "| Sex\t\t\t\t\t\t|ASEX|Male|\n",
      "| Member of a labor union\t\t\t|AUNMEM|No|\n",
      "| Reason for unemployment\t\t\t|AUNTYPE|Job loser - on layoff|\n",
      "| Full or part time employment stat\t\t|AWKSTAT|Full-time schedules|\n",
      "| Capital gains\t\t\t\t\t|CAPGAIN|1500|\n",
      "| Capital losses\t\t\t\t|CAPLOSS|200|\n",
      "| Divdends from stocks\t\t\t\t|DIVVAL|170|\n",
      "| Tax filer status\t\t\t\t|FILESTAT|NonFiler|\n",
      "| Region of previous residence\t\t\t|GRINREG|Midwest|\n",
      "| State of previous residence\t\t\t|GRINST|Kentucky|\n",
      "| Detailed household and family stat\t\t|HHDFMX|HouseHolder|\n",
      "| Detailed household summary in household\t|HHDREL|child under 18 never married|\n",
      "| Instance weight\t\t\t\t|MARSUPWT|151.394|\n",
      "| Migration code-change in msa\t\t\t|MIGMTR1|NonMover|\n",
      "| Migration code-change in reg\t\t\t|MIGMTR3|Same Country|\n",
      "| Migration code-move within reg\t\t|MIGMTR4|Different country same state|\n",
      "| Live in this house 1 year ago\t\t\t|MIGSAME|Yes|\n",
      "| Migration prev res in sunbelt\t\t\t|MIGSUN|No|\n",
      "| Num persons worked for employer\t\t|NOEMP|4|\n",
      "| Family members under 18\t\t\t|PARENT|Mother only present|\n",
      "| Country of birth father\t\t\t|PEFNTVTY|Mexico|\n",
      "| Country of birth mother\t\t\t|PEMNTVTY|United-States|\n",
      "| Country of birth self\t\t\t\t|PENATVTY|United-States|\n",
      "| Citizenship\t\t\t\t\t|PRCITSHP| Native-Born in the United-States|\n",
      "| Own business or self employed\t\t\t|SEOTR|1|\n",
      "| Fill inc questionnaire for veteran's admin\t|VETQVA|No|\n",
      "| Veterans benefits\t\t\t\t|VETYN|1|\n",
      "| Weeks worked in year\t\t\t\t|WKSWORK|48|\n",
      "| Year of census |CYEAR|94|\n",
      "|Total person Income (target)|PTOTVAL|+ 50000.|"
     ]
    },
    {
     "cell_type": "heading",
     "level": 2,
     "metadata": {},
     "source": [
      "PREPARATION"
     ]
    },
    {
     "cell_type": "markdown",
     "metadata": {},
     "source": [
      "Import the required packages"
     ]
    },
    {
     "cell_type": "code",
     "collapsed": false,
     "input": [
      "import pandas as pd\n",
      "import numpy as np\n",
      "from pandas import DataFrame\n",
      "import matplotlib.pyplot as plt\n",
      "import matplotlib.lines as mlines\n",
      "from sklearn import linear_model\n",
      "from sklearn.ensemble import RandomForestClassifier\n",
      "from sklearn import preprocessing\n",
      "from sklearn import metrics\n",
      "from sklearn.metrics import confusion_matrix\n",
      "from sklearn import decomposition\n",
      "from sklearn.cross_validation import cross_val_score\n",
      "from sklearn.cross_validation import KFold\n",
      "\n",
      "%matplotlib inline"
     ],
     "language": "python",
     "metadata": {},
     "outputs": [],
     "prompt_number": 23
    },
    {
     "cell_type": "markdown",
     "metadata": {},
     "source": [
      "We use the codes to name the columns when we load the file and we set the values that are not in the Universe to NaN. Depending on the columns, the NaN labels are differents."
     ]
    },
    {
     "cell_type": "code",
     "collapsed": false,
     "input": [
      "columns_labels= [lines.rstrip() for lines in open(\"data/columns_name.txt\",\"r\")]\n",
      "new_na_values=['NA','Do not know',' Not in universe',\" Not in universe under 1 year old\",\" Not in universe or children\", \" Children or Armed Forces\", \" ?\"]\n",
      "data = pd.read_csv(\"data/census_income_learn.csv\",sep=\",\",index_col=False,header=0,names=columns_labels,na_values=new_na_values)"
     ],
     "language": "python",
     "metadata": {},
     "outputs": [],
     "prompt_number": 24
    },
    {
     "cell_type": "markdown",
     "metadata": {},
     "source": [
      "We must now replace some values to make them more explicit."
     ]
    },
    {
     "cell_type": "code",
     "collapsed": false,
     "input": [
      "#0-1-2 Multiple choice mapping\n",
      "dic_MCQ = {0:pd.np.NaN,1:\"Yes\",2:\"No\"}\n",
      "#Company sizes mapping\n",
      "dic_CompanyPop = {0:pd.np.NaN,1:\"Under 10\",2:\"10 - 24\",3:\"25 - 99\",4:\"100-499\",5:\"500-999\",6:\"1000+\"}\n",
      "\n",
      "#Based on http://www.census.gov/prod/techdoc/cps/cpsmar96.html\n",
      "data = data.replace({\"VETYN\":dic_MCQ,\"SEOTR\":dic_MCQ,\"NOEMP\":dic_CompanyPop})\n",
      "\n",
      "#Simplification of the Education feature to reduce the number of variables\n",
      "values_to_replace=[' Children',' 7th and 8th grade',' 10th grade',' 11th grade',' 9th grade',' 5th or 6th grade',' 12th grade no diploma',' 1st 2nd 3rd or 4th grade',' Less than 1st grade']\n",
      "data.AHGA = data.AHGA.replace(values_to_replace,'Less than High School')\n",
      "\n",
      "#Transformation of the target feature to a 0|1 \n",
      "le = preprocessing.LabelEncoder()\n",
      "data.PTOTVAL=le.fit_transform(data.PTOTVAL)"
     ],
     "language": "python",
     "metadata": {},
     "outputs": [],
     "prompt_number": 25
    },
    {
     "cell_type": "markdown",
     "metadata": {},
     "source": [
      "40 variables is too much; we should remove some.\n",
      "\n",
      "* By removing categorical features that have more than, let's say, 10 values:\n",
      "    1. Industry and Occupation codes\n",
      "    1. Hispanic origin\n",
      "    1. Migration code and previous state\n",
      "    1. Parents births countries and birth country\n",
      "    1. Detailed household information\n",
      "\n",
      "* Categories relevant only for the US administration:\n",
      "    1. Tax filer status\n",
      "    1. Lived in the same house the previous year\n",
      "    1. Year of the census\n",
      "    \n",
      "* Some categories are also redundant:\n",
      "    1. Veteran form question and Veteran benefit question. We keep the latter.\n",
      "    1. Enroll in education last year is redundant with Education\n",
      "    \n",
      "We can then distinguish between our categorical features and continuous features"
     ]
    },
    {
     "cell_type": "code",
     "collapsed": false,
     "input": [
      "model_features_continuous = ['AAGE','AHRSPAY','CAPGAIN','CAPLOSS','DIVVAL','WKSWORK']\n",
      "model_features_category = ['ACLSWKR','AHGA','AMARITL','AWKSTAT','ARACE','NOEMP','AUNMEM','ASEX','HHDREL','PRCITSHP','SEOTR','VETYN']"
     ],
     "language": "python",
     "metadata": {},
     "outputs": [],
     "prompt_number": 26
    },
    {
     "cell_type": "heading",
     "level": 4,
     "metadata": {},
     "source": [
      "Continuous features analysis"
     ]
    },
    {
     "cell_type": "markdown",
     "metadata": {},
     "source": [
      "Let's analyze our features. For the continuous variables, we see that we have no missing values"
     ]
    },
    {
     "cell_type": "code",
     "collapsed": false,
     "input": [
      "Result = data[model_features_continuous+[\"PTOTVAL\"]]\n",
      "#We don't have any missing values:\n",
      "Result.isnull().sum()"
     ],
     "language": "python",
     "metadata": {},
     "outputs": [
      {
       "metadata": {},
       "output_type": "pyout",
       "prompt_number": 27,
       "text": [
        "AAGE       0\n",
        "AHRSPAY    0\n",
        "CAPGAIN    0\n",
        "CAPLOSS    0\n",
        "DIVVAL     0\n",
        "WKSWORK    0\n",
        "PTOTVAL    0\n",
        "dtype: int64"
       ]
      }
     ],
     "prompt_number": 27
    },
    {
     "cell_type": "markdown",
     "metadata": {},
     "source": [
      "We can get a good summary of the data using *.describe()*"
     ]
    },
    {
     "cell_type": "code",
     "collapsed": false,
     "input": [
      "#Some features stay at 0 for a long time, we display more quantiles\n",
      "percentiles_to_display= pd.np.arange(0,1.0,0.1)\n",
      "\n",
      "res = Result.groupby('PTOTVAL').describe(percentiles=percentiles_to_display)\n",
      "res=res[model_features_continuous]\n",
      "res"
     ],
     "language": "python",
     "metadata": {},
     "outputs": [
      {
       "html": [
        "<div style=\"max-height:1000px;max-width:1500px;overflow:auto;\">\n",
        "<table border=\"1\" class=\"dataframe\">\n",
        "  <thead>\n",
        "    <tr style=\"text-align: right;\">\n",
        "      <th></th>\n",
        "      <th></th>\n",
        "      <th>AAGE</th>\n",
        "      <th>AHRSPAY</th>\n",
        "      <th>CAPGAIN</th>\n",
        "      <th>CAPLOSS</th>\n",
        "      <th>DIVVAL</th>\n",
        "      <th>WKSWORK</th>\n",
        "    </tr>\n",
        "    <tr>\n",
        "      <th>PTOTVAL</th>\n",
        "      <th></th>\n",
        "      <th></th>\n",
        "      <th></th>\n",
        "      <th></th>\n",
        "      <th></th>\n",
        "      <th></th>\n",
        "      <th></th>\n",
        "    </tr>\n",
        "  </thead>\n",
        "  <tbody>\n",
        "    <tr>\n",
        "      <th rowspan=\"15\" valign=\"top\">0</th>\n",
        "      <th>count</th>\n",
        "      <td> 187140.000000</td>\n",
        "      <td> 187140.000000</td>\n",
        "      <td> 187140.000000</td>\n",
        "      <td> 187140.000000</td>\n",
        "      <td> 187140.000000</td>\n",
        "      <td> 187140.000000</td>\n",
        "    </tr>\n",
        "    <tr>\n",
        "      <th>mean</th>\n",
        "      <td>     33.715106</td>\n",
        "      <td>     53.692813</td>\n",
        "      <td>    143.848782</td>\n",
        "      <td>     27.003874</td>\n",
        "      <td>    107.817094</td>\n",
        "      <td>     21.527878</td>\n",
        "    </tr>\n",
        "    <tr>\n",
        "      <th>std</th>\n",
        "      <td>     22.620114</td>\n",
        "      <td>    261.169049</td>\n",
        "      <td>   1815.348161</td>\n",
        "      <td>    229.535672</td>\n",
        "      <td>    909.776614</td>\n",
        "      <td>     24.118222</td>\n",
        "    </tr>\n",
        "    <tr>\n",
        "      <th>min</th>\n",
        "      <td>      0.000000</td>\n",
        "      <td>      0.000000</td>\n",
        "      <td>      0.000000</td>\n",
        "      <td>      0.000000</td>\n",
        "      <td>      0.000000</td>\n",
        "      <td>      0.000000</td>\n",
        "    </tr>\n",
        "    <tr>\n",
        "      <th>0%</th>\n",
        "      <td>      0.000000</td>\n",
        "      <td>      0.000000</td>\n",
        "      <td>      0.000000</td>\n",
        "      <td>      0.000000</td>\n",
        "      <td>      0.000000</td>\n",
        "      <td>      0.000000</td>\n",
        "    </tr>\n",
        "    <tr>\n",
        "      <th>10%</th>\n",
        "      <td>      5.000000</td>\n",
        "      <td>      0.000000</td>\n",
        "      <td>      0.000000</td>\n",
        "      <td>      0.000000</td>\n",
        "      <td>      0.000000</td>\n",
        "      <td>      0.000000</td>\n",
        "    </tr>\n",
        "    <tr>\n",
        "      <th>20%</th>\n",
        "      <td>     11.000000</td>\n",
        "      <td>      0.000000</td>\n",
        "      <td>      0.000000</td>\n",
        "      <td>      0.000000</td>\n",
        "      <td>      0.000000</td>\n",
        "      <td>      0.000000</td>\n",
        "    </tr>\n",
        "    <tr>\n",
        "      <th>30.0%</th>\n",
        "      <td>     18.000000</td>\n",
        "      <td>      0.000000</td>\n",
        "      <td>      0.000000</td>\n",
        "      <td>      0.000000</td>\n",
        "      <td>      0.000000</td>\n",
        "      <td>      0.000000</td>\n",
        "    </tr>\n",
        "    <tr>\n",
        "      <th>40%</th>\n",
        "      <td>     25.000000</td>\n",
        "      <td>      0.000000</td>\n",
        "      <td>      0.000000</td>\n",
        "      <td>      0.000000</td>\n",
        "      <td>      0.000000</td>\n",
        "      <td>      0.000000</td>\n",
        "    </tr>\n",
        "    <tr>\n",
        "      <th>50%</th>\n",
        "      <td>     31.000000</td>\n",
        "      <td>      0.000000</td>\n",
        "      <td>      0.000000</td>\n",
        "      <td>      0.000000</td>\n",
        "      <td>      0.000000</td>\n",
        "      <td>      0.000000</td>\n",
        "    </tr>\n",
        "    <tr>\n",
        "      <th>60.0%</th>\n",
        "      <td>     38.000000</td>\n",
        "      <td>      0.000000</td>\n",
        "      <td>      0.000000</td>\n",
        "      <td>      0.000000</td>\n",
        "      <td>      0.000000</td>\n",
        "      <td>     30.000000</td>\n",
        "    </tr>\n",
        "    <tr>\n",
        "      <th>70%</th>\n",
        "      <td>     45.000000</td>\n",
        "      <td>      0.000000</td>\n",
        "      <td>      0.000000</td>\n",
        "      <td>      0.000000</td>\n",
        "      <td>      0.000000</td>\n",
        "      <td>     52.000000</td>\n",
        "    </tr>\n",
        "    <tr>\n",
        "      <th>80%</th>\n",
        "      <td>     55.000000</td>\n",
        "      <td>      0.000000</td>\n",
        "      <td>      0.000000</td>\n",
        "      <td>      0.000000</td>\n",
        "      <td>      0.000000</td>\n",
        "      <td>     52.000000</td>\n",
        "    </tr>\n",
        "    <tr>\n",
        "      <th>90%</th>\n",
        "      <td>     68.000000</td>\n",
        "      <td>      0.000000</td>\n",
        "      <td>      0.000000</td>\n",
        "      <td>      0.000000</td>\n",
        "      <td>      0.000000</td>\n",
        "      <td>     52.000000</td>\n",
        "    </tr>\n",
        "    <tr>\n",
        "      <th>max</th>\n",
        "      <td>     90.000000</td>\n",
        "      <td>   9916.000000</td>\n",
        "      <td>  99999.000000</td>\n",
        "      <td>   4608.000000</td>\n",
        "      <td>  39000.000000</td>\n",
        "      <td>     52.000000</td>\n",
        "    </tr>\n",
        "    <tr>\n",
        "      <th rowspan=\"15\" valign=\"top\">1</th>\n",
        "      <th>count</th>\n",
        "      <td>  12382.000000</td>\n",
        "      <td>  12382.000000</td>\n",
        "      <td>  12382.000000</td>\n",
        "      <td>  12382.000000</td>\n",
        "      <td>  12382.000000</td>\n",
        "      <td>  12382.000000</td>\n",
        "    </tr>\n",
        "    <tr>\n",
        "      <th>mean</th>\n",
        "      <td>     46.266193</td>\n",
        "      <td>     81.640284</td>\n",
        "      <td>   4830.930060</td>\n",
        "      <td>    193.139557</td>\n",
        "      <td>   1553.448070</td>\n",
        "      <td>     48.069617</td>\n",
        "    </tr>\n",
        "    <tr>\n",
        "      <th>std</th>\n",
        "      <td>     11.830906</td>\n",
        "      <td>    431.364773</td>\n",
        "      <td>  16887.627002</td>\n",
        "      <td>    607.542507</td>\n",
        "      <td>   6998.071762</td>\n",
        "      <td>     12.259412</td>\n",
        "    </tr>\n",
        "    <tr>\n",
        "      <th>min</th>\n",
        "      <td>     16.000000</td>\n",
        "      <td>      0.000000</td>\n",
        "      <td>      0.000000</td>\n",
        "      <td>      0.000000</td>\n",
        "      <td>      0.000000</td>\n",
        "      <td>      0.000000</td>\n",
        "    </tr>\n",
        "    <tr>\n",
        "      <th>0%</th>\n",
        "      <td>     16.000000</td>\n",
        "      <td>      0.000000</td>\n",
        "      <td>      0.000000</td>\n",
        "      <td>      0.000000</td>\n",
        "      <td>      0.000000</td>\n",
        "      <td>      0.000000</td>\n",
        "    </tr>\n",
        "    <tr>\n",
        "      <th>10%</th>\n",
        "      <td>     32.000000</td>\n",
        "      <td>      0.000000</td>\n",
        "      <td>      0.000000</td>\n",
        "      <td>      0.000000</td>\n",
        "      <td>      0.000000</td>\n",
        "      <td>     42.000000</td>\n",
        "    </tr>\n",
        "    <tr>\n",
        "      <th>20%</th>\n",
        "      <td>     36.000000</td>\n",
        "      <td>      0.000000</td>\n",
        "      <td>      0.000000</td>\n",
        "      <td>      0.000000</td>\n",
        "      <td>      0.000000</td>\n",
        "      <td>     52.000000</td>\n",
        "    </tr>\n",
        "    <tr>\n",
        "      <th>30.0%</th>\n",
        "      <td>     39.000000</td>\n",
        "      <td>      0.000000</td>\n",
        "      <td>      0.000000</td>\n",
        "      <td>      0.000000</td>\n",
        "      <td>      0.000000</td>\n",
        "      <td>     52.000000</td>\n",
        "    </tr>\n",
        "    <tr>\n",
        "      <th>40%</th>\n",
        "      <td>     42.000000</td>\n",
        "      <td>      0.000000</td>\n",
        "      <td>      0.000000</td>\n",
        "      <td>      0.000000</td>\n",
        "      <td>      0.000000</td>\n",
        "      <td>     52.000000</td>\n",
        "    </tr>\n",
        "    <tr>\n",
        "      <th>50%</th>\n",
        "      <td>     45.000000</td>\n",
        "      <td>      0.000000</td>\n",
        "      <td>      0.000000</td>\n",
        "      <td>      0.000000</td>\n",
        "      <td>      0.000000</td>\n",
        "      <td>     52.000000</td>\n",
        "    </tr>\n",
        "    <tr>\n",
        "      <th>60.0%</th>\n",
        "      <td>     48.000000</td>\n",
        "      <td>      0.000000</td>\n",
        "      <td>      0.000000</td>\n",
        "      <td>      0.000000</td>\n",
        "      <td>     20.000000</td>\n",
        "      <td>     52.000000</td>\n",
        "    </tr>\n",
        "    <tr>\n",
        "      <th>70%</th>\n",
        "      <td>     51.000000</td>\n",
        "      <td>      0.000000</td>\n",
        "      <td>      0.000000</td>\n",
        "      <td>      0.000000</td>\n",
        "      <td>    200.000000</td>\n",
        "      <td>     52.000000</td>\n",
        "    </tr>\n",
        "    <tr>\n",
        "      <th>80%</th>\n",
        "      <td>     55.000000</td>\n",
        "      <td>      0.000000</td>\n",
        "      <td>      0.000000</td>\n",
        "      <td>      0.000000</td>\n",
        "      <td>    600.000000</td>\n",
        "      <td>     52.000000</td>\n",
        "    </tr>\n",
        "    <tr>\n",
        "      <th>90%</th>\n",
        "      <td>     62.000000</td>\n",
        "      <td>      0.000000</td>\n",
        "      <td>  15024.000000</td>\n",
        "      <td>      0.000000</td>\n",
        "      <td>   2500.000000</td>\n",
        "      <td>     52.000000</td>\n",
        "    </tr>\n",
        "    <tr>\n",
        "      <th>max</th>\n",
        "      <td>     90.000000</td>\n",
        "      <td>   9999.000000</td>\n",
        "      <td>  99999.000000</td>\n",
        "      <td>   3683.000000</td>\n",
        "      <td>  99999.000000</td>\n",
        "      <td>     52.000000</td>\n",
        "    </tr>\n",
        "  </tbody>\n",
        "</table>\n",
        "</div>"
       ],
       "metadata": {},
       "output_type": "pyout",
       "prompt_number": 28,
       "text": [
        "                        AAGE        AHRSPAY        CAPGAIN        CAPLOSS  \\\n",
        "PTOTVAL                                                                     \n",
        "0       count  187140.000000  187140.000000  187140.000000  187140.000000   \n",
        "        mean       33.715106      53.692813     143.848782      27.003874   \n",
        "        std        22.620114     261.169049    1815.348161     229.535672   \n",
        "        min         0.000000       0.000000       0.000000       0.000000   \n",
        "        0%          0.000000       0.000000       0.000000       0.000000   \n",
        "        10%         5.000000       0.000000       0.000000       0.000000   \n",
        "        20%        11.000000       0.000000       0.000000       0.000000   \n",
        "        30.0%      18.000000       0.000000       0.000000       0.000000   \n",
        "        40%        25.000000       0.000000       0.000000       0.000000   \n",
        "        50%        31.000000       0.000000       0.000000       0.000000   \n",
        "        60.0%      38.000000       0.000000       0.000000       0.000000   \n",
        "        70%        45.000000       0.000000       0.000000       0.000000   \n",
        "        80%        55.000000       0.000000       0.000000       0.000000   \n",
        "        90%        68.000000       0.000000       0.000000       0.000000   \n",
        "        max        90.000000    9916.000000   99999.000000    4608.000000   \n",
        "1       count   12382.000000   12382.000000   12382.000000   12382.000000   \n",
        "        mean       46.266193      81.640284    4830.930060     193.139557   \n",
        "        std        11.830906     431.364773   16887.627002     607.542507   \n",
        "        min        16.000000       0.000000       0.000000       0.000000   \n",
        "        0%         16.000000       0.000000       0.000000       0.000000   \n",
        "        10%        32.000000       0.000000       0.000000       0.000000   \n",
        "        20%        36.000000       0.000000       0.000000       0.000000   \n",
        "        30.0%      39.000000       0.000000       0.000000       0.000000   \n",
        "        40%        42.000000       0.000000       0.000000       0.000000   \n",
        "        50%        45.000000       0.000000       0.000000       0.000000   \n",
        "        60.0%      48.000000       0.000000       0.000000       0.000000   \n",
        "        70%        51.000000       0.000000       0.000000       0.000000   \n",
        "        80%        55.000000       0.000000       0.000000       0.000000   \n",
        "        90%        62.000000       0.000000   15024.000000       0.000000   \n",
        "        max        90.000000    9999.000000   99999.000000    3683.000000   \n",
        "\n",
        "                      DIVVAL        WKSWORK  \n",
        "PTOTVAL                                      \n",
        "0       count  187140.000000  187140.000000  \n",
        "        mean      107.817094      21.527878  \n",
        "        std       909.776614      24.118222  \n",
        "        min         0.000000       0.000000  \n",
        "        0%          0.000000       0.000000  \n",
        "        10%         0.000000       0.000000  \n",
        "        20%         0.000000       0.000000  \n",
        "        30.0%       0.000000       0.000000  \n",
        "        40%         0.000000       0.000000  \n",
        "        50%         0.000000       0.000000  \n",
        "        60.0%       0.000000      30.000000  \n",
        "        70%         0.000000      52.000000  \n",
        "        80%         0.000000      52.000000  \n",
        "        90%         0.000000      52.000000  \n",
        "        max     39000.000000      52.000000  \n",
        "1       count   12382.000000   12382.000000  \n",
        "        mean     1553.448070      48.069617  \n",
        "        std      6998.071762      12.259412  \n",
        "        min         0.000000       0.000000  \n",
        "        0%          0.000000       0.000000  \n",
        "        10%         0.000000      42.000000  \n",
        "        20%         0.000000      52.000000  \n",
        "        30.0%       0.000000      52.000000  \n",
        "        40%         0.000000      52.000000  \n",
        "        50%         0.000000      52.000000  \n",
        "        60.0%      20.000000      52.000000  \n",
        "        70%       200.000000      52.000000  \n",
        "        80%       600.000000      52.000000  \n",
        "        90%      2500.000000      52.000000  \n",
        "        max     99999.000000      52.000000  "
       ]
      }
     ],
     "prompt_number": 28
    },
    {
     "cell_type": "markdown",
     "metadata": {},
     "source": [
      "We are now going to represent that table. We normalize it so that they are on the same scale."
     ]
    },
    {
     "cell_type": "code",
     "collapsed": false,
     "input": [
      "plt.figure()\n",
      "#Plot of the <50000 distribution\n",
      "A=res.loc[0].iloc[1:]\n",
      "std=A.ix[\"std\"]\n",
      "mean=A.ix[\"mean\"]\n",
      "A= ((A-mean)/std).iloc[2:]\n",
      "A.boxplot()\n",
      "plt.suptitle(\"Distribution of different continous variables for the Low Income\")\n",
      "plt.xlabel('Continuous variables')\n",
      "plt.ylabel('Distribution')\n",
      "plt.legend(bbox_to_anchor=(1.2, 1), loc=2, borderaxespad=0.)\n",
      "plt.show()\n",
      "#Plot of the >50000 income distribution\n",
      "plt.figure()\n",
      "B=res.loc[1].iloc[1:]\n",
      "std=B.ix[\"std\"]\n",
      "mean=B.ix[\"mean\"]\n",
      "B = ((B-mean)/std).iloc[2:]\n",
      "B.boxplot()\n",
      "plt.suptitle(\"Distribution of different continous variables for the High Income\")\n",
      "plt.xlabel('Continuous variables')\n",
      "plt.ylabel('Distribution')\n",
      "plt.legend(bbox_to_anchor=(1.2, 1), loc=2, borderaxespad=0.)\n",
      "plt.show()"
     ],
     "language": "python",
     "metadata": {},
     "outputs": [
      {
       "metadata": {},
       "output_type": "display_data",
       "png": "[encoded data removed]",
       "text": [
        "<matplotlib.figure.Figure at 0x7ff946da9190>"
       ]
      },
      {
       "metadata": {},
       "output_type": "display_data",
       "png": "[encoded data removed]",
       "text": [
        "<matplotlib.figure.Figure at 0x7ff93feb0d50>"
       ]
      }
     ],
     "prompt_number": 29
    },
    {
     "cell_type": "markdown",
     "metadata": {},
     "source": [
      "It appears that for most of the features, we have many small values and a few big ones, giving very wide distributions.\n",
      "\n",
      "Now let's see if we can find some features where there are many differences."
     ]
    },
    {
     "cell_type": "code",
     "collapsed": false,
     "input": [
      "Means= Result.groupby(\"PTOTVAL\").mean()\n",
      "\n",
      "Proportion = (Means/Means.sum()).T.sort(columns=1)\n",
      "Proportion.plot(kind='bar',stacked=True)\n",
      "plt.suptitle(\"Proportion of different continous variables\")\n",
      "plt.xlabel('Continuous variables')\n",
      "plt.ylabel('Proportion')\n",
      "plt.legend(bbox_to_anchor=(1.2, 1), loc=2, borderaxespad=0.)\n",
      "plt.show()"
     ],
     "language": "python",
     "metadata": {},
     "outputs": [
      {
       "metadata": {},
       "output_type": "display_data",
       "png": "[encoded data removed]",
       "text": [
        "<matplotlib.figure.Figure at 0x7ff9467d2610>"
       ]
      }
     ],
     "prompt_number": 30
    },
    {
     "cell_type": "markdown",
     "metadata": {},
     "source": [
      "We can see that, high income are usally older and that features related to the capital are almost exclusively for the high income.\n",
      "\n",
      "Let's see if we can plot the age distribution to confirm the Age Gap."
     ]
    },
    {
     "cell_type": "code",
     "collapsed": false,
     "input": [
      "age = data[['AAGE','PTOTVAL']]\n",
      "age_Total = age.AAGE.value_counts().sort_index()\n",
      "age_Sup_50K = age[age.PTOTVAL==1]\n",
      "age_Below_50K = age[age.PTOTVAL==0]\n",
      "meanSup_50K = age_Sup_50K.mean()\n",
      "meanTotal = age.mean()\n",
      "\n",
      "age_up_proportion = age_Sup_50K.AAGE.value_counts().sort_index()/age_Total\n",
      "\n",
      "fig=plt.figure()\n",
      "age_Total.plot( color='r')\n",
      "High_Income=age_Sup_50K.AAGE.value_counts().sort_index().plot( color='b',label=\"High Income\")\n",
      "plt.axvline(meanSup_50K.AAGE , color='b', linestyle='--')\n",
      "plt.axvline(meanTotal.AAGE, color='r', linestyle='--')\n",
      "Proportion_Income=age_up_proportion.plot(secondary_y=True, color='g',label = \"Proportion of High Income\")\n",
      "fig.suptitle('Age Distribution', fontsize=20)\n",
      "plt.xlabel('Age')\n",
      "plt.ylabel('Proportion')\n",
      "plt.legend(bbox_to_anchor=(1.2, 1), loc=2, borderaxespad=0.)\n",
      "plt.show()"
     ],
     "language": "python",
     "metadata": {},
     "outputs": [
      {
       "metadata": {},
       "output_type": "display_data",
       "png": "[encoded data removed]",
       "text": [
        "<matplotlib.figure.Figure at 0x7ff9469ebdd0>"
       ]
      }
     ],
     "prompt_number": 31
    },
    {
     "cell_type": "markdown",
     "metadata": {},
     "source": [
      "We can see that there is  a 10 year difference between the mean Age of the general dataset and the mean age of the High Income.\n",
      "It could be expected as wages increase as the career evolves."
     ]
    },
    {
     "cell_type": "heading",
     "level": 4,
     "metadata": {},
     "source": [
      "Categorical features analysis"
     ]
    },
    {
     "cell_type": "markdown",
     "metadata": {},
     "source": [
      "This time, it appears that we have many missing values"
     ]
    },
    {
     "cell_type": "code",
     "collapsed": false,
     "input": [
      "Result = data[model_features_category+[\"PTOTVAL\"]]\n",
      "Result.isnull().sum()"
     ],
     "language": "python",
     "metadata": {},
     "outputs": [
      {
       "metadata": {},
       "output_type": "pyout",
       "prompt_number": 32,
       "text": [
        "ACLSWKR     100244\n",
        "AHGA             0\n",
        "AMARITL          0\n",
        "AWKSTAT     123769\n",
        "ARACE            0\n",
        "NOEMP        95982\n",
        "AUNMEM      180458\n",
        "ASEX             0\n",
        "HHDREL           0\n",
        "PRCITSHP         0\n",
        "SEOTR       180671\n",
        "VETYN        47409\n",
        "PTOTVAL          0\n",
        "dtype: int64"
       ]
      }
     ],
     "prompt_number": 32
    },
    {
     "cell_type": "markdown",
     "metadata": {},
     "source": [
      "Again, let's describe our categorical features using *describe()* ."
     ]
    },
    {
     "cell_type": "code",
     "collapsed": false,
     "input": [
      "res=Result.groupby(\"PTOTVAL\")\n",
      "res.describe()"
     ],
     "language": "python",
     "metadata": {},
     "outputs": [
      {
       "html": [
        "<div style=\"max-height:1000px;max-width:1500px;overflow:auto;\">\n",
        "<table border=\"1\" class=\"dataframe\">\n",
        "  <thead>\n",
        "    <tr style=\"text-align: right;\">\n",
        "      <th></th>\n",
        "      <th></th>\n",
        "      <th>ACLSWKR</th>\n",
        "      <th>AHGA</th>\n",
        "      <th>AMARITL</th>\n",
        "      <th>ARACE</th>\n",
        "      <th>ASEX</th>\n",
        "      <th>AUNMEM</th>\n",
        "      <th>AWKSTAT</th>\n",
        "      <th>HHDREL</th>\n",
        "      <th>NOEMP</th>\n",
        "      <th>PRCITSHP</th>\n",
        "      <th>SEOTR</th>\n",
        "      <th>VETYN</th>\n",
        "    </tr>\n",
        "    <tr>\n",
        "      <th>PTOTVAL</th>\n",
        "      <th></th>\n",
        "      <th></th>\n",
        "      <th></th>\n",
        "      <th></th>\n",
        "      <th></th>\n",
        "      <th></th>\n",
        "      <th></th>\n",
        "      <th></th>\n",
        "      <th></th>\n",
        "      <th></th>\n",
        "      <th></th>\n",
        "      <th></th>\n",
        "      <th></th>\n",
        "    </tr>\n",
        "  </thead>\n",
        "  <tbody>\n",
        "    <tr>\n",
        "      <th rowspan=\"4\" valign=\"top\">0</th>\n",
        "      <th>count</th>\n",
        "      <td>    87800</td>\n",
        "      <td>                      187140</td>\n",
        "      <td>                           187140</td>\n",
        "      <td> 187140</td>\n",
        "      <td>  187140</td>\n",
        "      <td> 16830</td>\n",
        "      <td>                69245</td>\n",
        "      <td>       187140</td>\n",
        "      <td> 91754</td>\n",
        "      <td>                             187140</td>\n",
        "      <td> 16921</td>\n",
        "      <td> 139731</td>\n",
        "    </tr>\n",
        "    <tr>\n",
        "      <th>unique</th>\n",
        "      <td>        8</td>\n",
        "      <td>                           9</td>\n",
        "      <td>                                7</td>\n",
        "      <td>      5</td>\n",
        "      <td>       2</td>\n",
        "      <td>     2</td>\n",
        "      <td>                    7</td>\n",
        "      <td>            8</td>\n",
        "      <td>     6</td>\n",
        "      <td>                                  5</td>\n",
        "      <td>     2</td>\n",
        "      <td>      2</td>\n",
        "    </tr>\n",
        "    <tr>\n",
        "      <th>top</th>\n",
        "      <td>  Private</td>\n",
        "      <td>       Less than High School</td>\n",
        "      <td>                    Never married</td>\n",
        "      <td>  White</td>\n",
        "      <td>  Female</td>\n",
        "      <td>    No</td>\n",
        "      <td>  Full-time schedules</td>\n",
        "      <td>  Householder</td>\n",
        "      <td> 1000+</td>\n",
        "      <td>  Native- Born in the United States</td>\n",
        "      <td>    No</td>\n",
        "      <td>     No</td>\n",
        "    </tr>\n",
        "    <tr>\n",
        "      <th>freq</th>\n",
        "      <td>    64706</td>\n",
        "      <td>                       83801</td>\n",
        "      <td>                            85368</td>\n",
        "      <td> 156092</td>\n",
        "      <td>  101320</td>\n",
        "      <td> 14212</td>\n",
        "      <td>                35370</td>\n",
        "      <td>        65824</td>\n",
        "      <td> 31031</td>\n",
        "      <td>                             165842</td>\n",
        "      <td> 14832</td>\n",
        "      <td> 137978</td>\n",
        "    </tr>\n",
        "    <tr>\n",
        "      <th rowspan=\"4\" valign=\"top\">1</th>\n",
        "      <th>count</th>\n",
        "      <td>    11478</td>\n",
        "      <td>                       12382</td>\n",
        "      <td>                            12382</td>\n",
        "      <td>  12382</td>\n",
        "      <td>   12382</td>\n",
        "      <td>  2234</td>\n",
        "      <td>                 6508</td>\n",
        "      <td>        12382</td>\n",
        "      <td> 11786</td>\n",
        "      <td>                              12382</td>\n",
        "      <td>  1930</td>\n",
        "      <td>  12382</td>\n",
        "    </tr>\n",
        "    <tr>\n",
        "      <th>unique</th>\n",
        "      <td>        8</td>\n",
        "      <td>                           9</td>\n",
        "      <td>                                7</td>\n",
        "      <td>      5</td>\n",
        "      <td>       2</td>\n",
        "      <td>     2</td>\n",
        "      <td>                    7</td>\n",
        "      <td>            7</td>\n",
        "      <td>     6</td>\n",
        "      <td>                                  5</td>\n",
        "      <td>     2</td>\n",
        "      <td>      2</td>\n",
        "    </tr>\n",
        "    <tr>\n",
        "      <th>top</th>\n",
        "      <td>  Private</td>\n",
        "      <td>  Bachelors degree(BA AB BS)</td>\n",
        "      <td>  Married-civilian spouse present</td>\n",
        "      <td>  White</td>\n",
        "      <td>    Male</td>\n",
        "      <td>    No</td>\n",
        "      <td>  Full-time schedules</td>\n",
        "      <td>  Householder</td>\n",
        "      <td> 1000+</td>\n",
        "      <td>  Native- Born in the United States</td>\n",
        "      <td>    No</td>\n",
        "      <td>     No</td>\n",
        "    </tr>\n",
        "    <tr>\n",
        "      <th>freq</th>\n",
        "      <td>     7322</td>\n",
        "      <td>                        3915</td>\n",
        "      <td>                             9600</td>\n",
        "      <td>  11272</td>\n",
        "      <td>    9719</td>\n",
        "      <td>  1822</td>\n",
        "      <td>                 5366</td>\n",
        "      <td>         9651</td>\n",
        "      <td>  5480</td>\n",
        "      <td>                              11149</td>\n",
        "      <td>  1321</td>\n",
        "      <td>  12151</td>\n",
        "    </tr>\n",
        "  </tbody>\n",
        "</table>\n",
        "</div>"
       ],
       "metadata": {},
       "output_type": "pyout",
       "prompt_number": 33,
       "text": [
        "                 ACLSWKR                         AHGA  \\\n",
        "PTOTVAL                                                 \n",
        "0       count      87800                       187140   \n",
        "        unique         8                            9   \n",
        "        top      Private        Less than High School   \n",
        "        freq       64706                        83801   \n",
        "1       count      11478                        12382   \n",
        "        unique         8                            9   \n",
        "        top      Private   Bachelors degree(BA AB BS)   \n",
        "        freq        7322                         3915   \n",
        "\n",
        "                                         AMARITL   ARACE     ASEX AUNMEM  \\\n",
        "PTOTVAL                                                                    \n",
        "0       count                             187140  187140   187140  16830   \n",
        "        unique                                 7       5        2      2   \n",
        "        top                        Never married   White   Female     No   \n",
        "        freq                               85368  156092   101320  14212   \n",
        "1       count                              12382   12382    12382   2234   \n",
        "        unique                                 7       5        2      2   \n",
        "        top      Married-civilian spouse present   White     Male     No   \n",
        "        freq                                9600   11272     9719   1822   \n",
        "\n",
        "                             AWKSTAT        HHDREL  NOEMP  \\\n",
        "PTOTVAL                                                     \n",
        "0       count                  69245        187140  91754   \n",
        "        unique                     7             8      6   \n",
        "        top      Full-time schedules   Householder  1000+   \n",
        "        freq                   35370         65824  31031   \n",
        "1       count                   6508         12382  11786   \n",
        "        unique                     7             7      6   \n",
        "        top      Full-time schedules   Householder  1000+   \n",
        "        freq                    5366          9651   5480   \n",
        "\n",
        "                                          PRCITSHP  SEOTR   VETYN  \n",
        "PTOTVAL                                                            \n",
        "0       count                               187140  16921  139731  \n",
        "        unique                                   5      2       2  \n",
        "        top      Native- Born in the United States     No      No  \n",
        "        freq                                165842  14832  137978  \n",
        "1       count                                12382   1930   12382  \n",
        "        unique                                   5      2       2  \n",
        "        top      Native- Born in the United States     No      No  \n",
        "        freq                                 11149   1321   12151  "
       ]
      }
     ],
     "prompt_number": 33
    },
    {
     "cell_type": "markdown",
     "metadata": {},
     "source": [
      "Let's see what are the most sparse features."
     ]
    },
    {
     "cell_type": "code",
     "collapsed": false,
     "input": [
      "Counts_Res= res.count()\n",
      "\n",
      "NaN_0 = DataFrame(Result[Result.PTOTVAL==0].isnull().sum())\n",
      "NaN_1 = DataFrame(Result[Result.PTOTVAL==1].isnull().sum())\n",
      "\n",
      "NaN_0.columns=[\"NaN_0\"]\n",
      "NaN_1.columns=[\"NaN_1\"]\n",
      "fig=plt.figure()\n",
      "Counts_Res= Counts_Res.append(NaN_0.T)\n",
      "Counts_Res=Counts_Res.append(NaN_1.T)\n",
      "Counts_Res[model_features_category].T.plot(kind='bar',stacked=True,title=\"Propotion of NaN values for different features\")\n",
      "fig.suptitle('test titleezaea', fontsize=20)\n",
      "plt.xlabel('Categorical features')\n",
      "plt.ylabel('Occurences')\n",
      "plt.legend(bbox_to_anchor=(1.05, 1), loc=2, borderaxespad=0.)\n",
      "plt.show();"
     ],
     "language": "python",
     "metadata": {},
     "outputs": [
      {
       "metadata": {},
       "output_type": "display_data",
       "text": [
        "<matplotlib.figure.Figure at 0x7ff97c9451d0>"
       ]
      },
      {
       "metadata": {},
       "output_type": "display_data",
       "png": "[encoded data removed]",
       "text": [
        "<matplotlib.figure.Figure at 0x7ff9465f9050>"
       ]
      }
     ],
     "prompt_number": 34
    },
    {
     "cell_type": "markdown",
     "metadata": {},
     "source": [
      "Due to the very high number of missing values, we are going to remove some features:\n",
      "\n",
      "* SEOTR: Self-employment or not\n",
      "* AUNMEM: Member of a labor union\n"
     ]
    },
    {
     "cell_type": "code",
     "collapsed": false,
     "input": [
      "To_reject=['SEOTR','AUNMEM']\n",
      "for waste in To_reject:\n",
      "    if waste in model_features_category:\n",
      "        model_features_category.remove(waste)\n",
      "model_features_category"
     ],
     "language": "python",
     "metadata": {},
     "outputs": [
      {
       "metadata": {},
       "output_type": "pyout",
       "prompt_number": 35,
       "text": [
        "['ACLSWKR',\n",
        " 'AHGA',\n",
        " 'AMARITL',\n",
        " 'AWKSTAT',\n",
        " 'ARACE',\n",
        " 'NOEMP',\n",
        " 'ASEX',\n",
        " 'HHDREL',\n",
        " 'PRCITSHP',\n",
        " 'VETYN']"
       ]
      }
     ],
     "prompt_number": 35
    },
    {
     "cell_type": "heading",
     "level": 2,
     "metadata": {},
     "source": [
      "TRAINING"
     ]
    },
    {
     "cell_type": "markdown",
     "metadata": {
      "slideshow": {
       "slide_type": "fragment"
      }
     },
     "source": [
      "So we know what we keep, we shall now get our explaining Dataframe and our objective feature and normalize them.\n",
      "\n",
      "Continuous values must be normalized using a standard Scaler.\n",
      "Categorical values must be normalize by encoding them into an Integer."
     ]
    },
    {
     "cell_type": "code",
     "collapsed": false,
     "input": [
      "le = preprocessing.LabelEncoder()\n",
      "ss = preprocessing.StandardScaler()\n",
      "X = data[model_features_category+model_features_continuous]\n",
      "Y = le.fit_transform(data.PTOTVAL)\n",
      "for label in model_features_category:\n",
      "    X[label] = le.fit_transform(X[label])\n",
      "for label in model_features_continuous:\n",
      "    X[label] = ss.fit_transform(X[label])"
     ],
     "language": "python",
     "metadata": {},
     "outputs": [],
     "prompt_number": 36
    },
    {
     "cell_type": "markdown",
     "metadata": {},
     "source": [
      "We are now going to train our dataset using two classification algorithms : *Random Forest classifier* and a *logistic Regression*"
     ]
    },
    {
     "cell_type": "heading",
     "level": 4,
     "metadata": {},
     "source": [
      "Random Forest"
     ]
    },
    {
     "cell_type": "code",
     "collapsed": false,
     "input": [
      "forest = RandomForestClassifier(n_estimators=30)\n",
      "forest.fit(X,Y)\n",
      "Y_predict = forest.predict(X)\n",
      "print \"Score : \" ,forest.score(X,Y)\n",
      "print \"Classification report : \\n \", metrics.classification_report(Y,Y_predict)\n",
      "print \"Confusion matrix : \\n \" ,metrics.confusion_matrix(Y,Y_predict)\n",
      "print \"ROC Score : \", metrics.roc_auc_score(Y,Y_predict)"
     ],
     "language": "python",
     "metadata": {},
     "outputs": [
      {
       "output_type": "stream",
       "stream": "stdout",
       "text": [
        "Score :  "
       ]
      },
      {
       "output_type": "stream",
       "stream": "stdout",
       "text": [
        "0.992246469061\n",
        "Classification report : \n",
        "               precision    recall  f1-score   support\n",
        "\n",
        "          0       0.99      1.00      1.00    187140\n",
        "          1       0.97      0.90      0.94     12382\n",
        "\n",
        "avg / total       0.99      0.99      0.99    199522\n",
        "\n",
        "Confusion matrix : \n",
        "  "
       ]
      },
      {
       "output_type": "stream",
       "stream": "stdout",
       "text": [
        "[[186808    332]\n",
        " [  1215  11167]]\n",
        "ROC Score :  0.950049807362\n"
       ]
      }
     ],
     "prompt_number": 37
    },
    {
     "cell_type": "markdown",
     "metadata": {},
     "source": [
      "Which is pretty good."
     ]
    },
    {
     "cell_type": "heading",
     "level": 4,
     "metadata": {},
     "source": [
      "Logistic Regression"
     ]
    },
    {
     "cell_type": "markdown",
     "metadata": {},
     "source": [
      "To perform the Logistic Regression, we need to modify again our DataSet by creating dummy_columns for all categorical variables."
     ]
    },
    {
     "cell_type": "code",
     "collapsed": false,
     "input": [
      "X_log=X[model_features_continuous]\n",
      "for label in model_features_category:\n",
      "    dummified_label = pd.get_dummies(data[label],dummy_na=True,prefix_sep=\":\",prefix=label)\n",
      "    X_log=pd.concat([X_log,dummified_label],axis=1)\n",
      "logModel = linear_model.LogisticRegression(C=1)\n",
      "logModel.fit(X_log,Y)\n",
      "Y_predict = logModel.predict(X_log)\n",
      "print \"Score : \", logModel.score(X_log,Y)\n",
      "print \"Classification report : \\n\", metrics.classification_report(Y,Y_predict)\n",
      "print \"Confusion matrix : \\n\",metrics.confusion_matrix(Y,Y_predict)\n",
      "print \"ROC Score : \", metrics.roc_auc_score(Y,Y_predict)"
     ],
     "language": "python",
     "metadata": {},
     "outputs": [
      {
       "output_type": "stream",
       "stream": "stdout",
       "text": [
        "Score :  "
       ]
      },
      {
       "output_type": "stream",
       "stream": "stdout",
       "text": [
        "0.950306231894\n",
        "Classification report : \n",
        "             precision    recall  f1-score   support\n",
        "\n",
        "          0       0.96      0.99      0.97    187140\n",
        "          1       0.72      0.33      0.45     12382\n",
        "\n",
        "avg / total       0.94      0.95      0.94    199522\n",
        "\n",
        "Confusion matrix : \n",
        "[[185527   1613]\n",
        " [  8302   4080]]"
       ]
      },
      {
       "output_type": "stream",
       "stream": "stdout",
       "text": [
        "\n",
        "ROC Score :  0.660445682157\n"
       ]
      }
     ],
     "prompt_number": 38
    },
    {
     "cell_type": "markdown",
     "metadata": {},
     "source": [
      "Let's do some cross-validation to try to improve our model."
     ]
    },
    {
     "cell_type": "code",
     "collapsed": false,
     "input": [
      "alpha_min= 1e-6\n",
      "alpha_max= 1e4\n",
      "num_alphas=10\n",
      "alphas = pd.np.logspace(np.log10(alpha_min),np.log10(alpha_max),num = num_alphas)\n",
      "\n",
      "kf = KFold(len(X_log)-1, n_folds=5,shuffle=True)\n",
      "alpha_score=[]\n",
      "\n",
      "for alpha in alphas:\n",
      "    Scores=[]\n",
      "    logModel = linear_model.LogisticRegression(C=alpha)\n",
      "    for train,test in kf:\n",
      "        X_log_train,Y_train,X_log_test,Y_test  = X_log.ix[train], Y[train], X_log.ix[test], Y[test]\n",
      "        logModel.fit(X_log_train,Y_train)\n",
      "        Scores.append(metrics.f1_score(logModel.predict(X_log_test),Y_test))\n",
      "    alpha_score.append(np.array(Scores).mean())\n",
      "    #Get the maximum index\n",
      "#BestScore= Scores.index(max(Scores))\n",
      "#logModel= Models[BestScore]\n",
      "#print \"Confusion matrix : \", metrics.classification_report(Y,logModel.predict(X_log))"
     ],
     "language": "python",
     "metadata": {},
     "outputs": [],
     "prompt_number": 39
    },
    {
     "cell_type": "code",
     "collapsed": false,
     "input": [
      "index_max= alpha_score.index(max(alpha_score))\n",
      "C_final = alphas[index_max]\n",
      "logModel = linear_model.LogisticRegression(C=C_final)\n",
      "logModel.fit(X_log,Y)\n",
      "Y_predict = logModel.predict(X_log) \n",
      "print \"classification report : \\n \", metrics.classification_report(Y,Y_predict)\n",
      "print \"Confusion matrix : \\n\",metrics.confusion_matrix(Y,Y_predict)\n",
      "print \"ROC Score : \", metrics.roc_auc_score(Y,Y_predict)"
     ],
     "language": "python",
     "metadata": {},
     "outputs": [
      {
       "output_type": "stream",
       "stream": "stdout",
       "text": [
        "classification report : \n",
        "               precision    recall  f1-score   support\n",
        "\n",
        "          0       0.96      0.99      0.97    187140\n",
        "          1       0.72      0.33      0.45     12382\n",
        "\n",
        "avg / total       0.94      0.95      0.94    199522\n",
        "\n",
        "Confusion matrix : \n",
        "[[185523   1617]\n",
        " [  8296   4086]]"
       ]
      },
      {
       "output_type": "stream",
       "stream": "stdout",
       "text": [
        "\n",
        "ROC Score :  0.660677282162\n"
       ]
      }
     ],
     "prompt_number": 40
    },
    {
     "cell_type": "markdown",
     "metadata": {},
     "source": [
      "Which is roughly the same as our previous score."
     ]
    },
    {
     "cell_type": "heading",
     "level": 2,
     "metadata": {},
     "source": [
      "MODEL EVALUATION"
     ]
    },
    {
     "cell_type": "markdown",
     "metadata": {},
     "source": [
      "Based on what we saw, it seems that the random Forest has a better performance than the logistic regression in terms of prediction. \n",
      "We want to have a good precision and a good recall; the F1-score is a good synthesis and it appears that the Random Forest has a better result.\n",
      "\n",
      "Let's see if it works also on the testing set.\n",
      "\n",
      "First let's do the same transformations that we did on our learning set."
     ]
    },
    {
     "cell_type": "code",
     "collapsed": false,
     "input": [
      "data_test = pd.read_csv(\"data/census_income_test.csv\",sep=\",\",index_col=False,header=0,names=columns_labels,na_values=new_na_values)\n",
      "dic_MCQ = {0:pd.np.NaN,1:\"Yes\",2:\"No\"}\n",
      "dic_CompanyPop = {0:pd.np.NaN,1:\"Under 10\",2:\"10 - 24\",3:\"25 - 99\",4:\"100-499\",5:\"500-999\",6:\"1000+\"}\n",
      "\n",
      "#Based on http://www.census.gov/prod/techdoc/cps/cpsmar96.html\n",
      "data_test = data_test.replace({\"VETYN\":dic_MCQ,\"SEOTR\":dic_MCQ,\"NOEMP\":dic_CompanyPop})\n",
      "\n",
      "values_to_replace=[' Children',' 7th and 8th grade',' 10th grade',' 11th grade',' 9th grade',' 5th or 6th grade',' 12th grade no diploma',' 1st 2nd 3rd or 4th grade',' Less than 1st grade']\n",
      "data_test.AHGA = data_test.AHGA.replace(values_to_replace,'Less than High School')\n",
      "\n",
      "le = preprocessing.LabelEncoder()\n",
      "data_test.PTOTVAL=le.fit_transform(data_test.PTOTVAL)\n",
      "X_test = data_test[model_features_category+model_features_continuous]\n",
      "Y_test = le.fit_transform(data_test.PTOTVAL)\n",
      "for label in model_features_category:\n",
      "    X_test[label] = le.fit_transform(X_test[label])\n",
      "for label in model_features_continuous:\n",
      "    X_test[label] = ss.fit_transform(X_test[label])"
     ],
     "language": "python",
     "metadata": {},
     "outputs": [],
     "prompt_number": 41
    },
    {
     "cell_type": "markdown",
     "metadata": {},
     "source": [
      "Apply the random forest model to our new dataset."
     ]
    },
    {
     "cell_type": "code",
     "collapsed": false,
     "input": [
      "Y_test_predicted= forest.predict(X_test)\n",
      "print \"Classification report : \\n\", metrics.classification_report(Y_test,Y_test_predicted)\n",
      "print \"Confusion matrix : \\n\",metrics.confusion_matrix(Y_test,Y_test_predicted)\n",
      "print \"ROC Score : \",metrics.roc_auc_score(Y_test,Y_test_predicted)"
     ],
     "language": "python",
     "metadata": {},
     "outputs": [
      {
       "output_type": "stream",
       "stream": "stdout",
       "text": [
        "Classification report : \n",
        "             precision    recall  f1-score   support\n",
        "\n",
        "          0       0.95      1.00      0.97     93575\n",
        "          1       0.77      0.23      0.35      6186\n",
        "\n",
        "avg / total       0.94      0.95      0.93     99761\n",
        "\n",
        "Confusion matrix : \n",
        "[[93150   425]\n",
        " [ 4763  1423]]"
       ]
      },
      {
       "output_type": "stream",
       "stream": "stdout",
       "text": [
        "\n",
        "ROC Score :  0.612746876398\n"
       ]
      }
     ],
     "prompt_number": 42
    },
    {
     "cell_type": "markdown",
     "metadata": {},
     "source": [
      "It is not a good as on the learning set.\n",
      "We still have a good precision but now we had a very bad recall. \n",
      "When we predict a high income, it generally is one, but we miss a lot of them."
     ]
    },
    {
     "cell_type": "heading",
     "level": 2,
     "metadata": {},
     "source": [
      "INSIGHTS"
     ]
    },
    {
     "cell_type": "markdown",
     "metadata": {},
     "source": [
      "We tested our model; it is now time to interpret it. Based on the features importances we can know which values are the most important."
     ]
    },
    {
     "cell_type": "code",
     "collapsed": false,
     "input": [
      "Results = pd.DataFrame(zip(X.columns, forest.feature_importances_.T))\n",
      "Results.sort(columns=1,ascending=False)"
     ],
     "language": "python",
     "metadata": {},
     "outputs": [
      {
       "html": [
        "<div style=\"max-height:1000px;max-width:1500px;overflow:auto;\">\n",
        "<table border=\"1\" class=\"dataframe\">\n",
        "  <thead>\n",
        "    <tr style=\"text-align: right;\">\n",
        "      <th></th>\n",
        "      <th>0</th>\n",
        "      <th>1</th>\n",
        "    </tr>\n",
        "  </thead>\n",
        "  <tbody>\n",
        "    <tr>\n",
        "      <th>10</th>\n",
        "      <td>     AAGE</td>\n",
        "      <td> 0.201024</td>\n",
        "    </tr>\n",
        "    <tr>\n",
        "      <th>14</th>\n",
        "      <td>   DIVVAL</td>\n",
        "      <td> 0.131325</td>\n",
        "    </tr>\n",
        "    <tr>\n",
        "      <th>12</th>\n",
        "      <td>  CAPGAIN</td>\n",
        "      <td> 0.114430</td>\n",
        "    </tr>\n",
        "    <tr>\n",
        "      <th>1 </th>\n",
        "      <td>     AHGA</td>\n",
        "      <td> 0.099647</td>\n",
        "    </tr>\n",
        "    <tr>\n",
        "      <th>5 </th>\n",
        "      <td>    NOEMP</td>\n",
        "      <td> 0.082634</td>\n",
        "    </tr>\n",
        "    <tr>\n",
        "      <th>15</th>\n",
        "      <td>  WKSWORK</td>\n",
        "      <td> 0.065586</td>\n",
        "    </tr>\n",
        "    <tr>\n",
        "      <th>0 </th>\n",
        "      <td>  ACLSWKR</td>\n",
        "      <td> 0.058205</td>\n",
        "    </tr>\n",
        "    <tr>\n",
        "      <th>3 </th>\n",
        "      <td>  AWKSTAT</td>\n",
        "      <td> 0.045919</td>\n",
        "    </tr>\n",
        "    <tr>\n",
        "      <th>13</th>\n",
        "      <td>  CAPLOSS</td>\n",
        "      <td> 0.037987</td>\n",
        "    </tr>\n",
        "    <tr>\n",
        "      <th>6 </th>\n",
        "      <td>     ASEX</td>\n",
        "      <td> 0.037637</td>\n",
        "    </tr>\n",
        "    <tr>\n",
        "      <th>2 </th>\n",
        "      <td>  AMARITL</td>\n",
        "      <td> 0.033640</td>\n",
        "    </tr>\n",
        "    <tr>\n",
        "      <th>7 </th>\n",
        "      <td>   HHDREL</td>\n",
        "      <td> 0.026464</td>\n",
        "    </tr>\n",
        "    <tr>\n",
        "      <th>11</th>\n",
        "      <td>  AHRSPAY</td>\n",
        "      <td> 0.022125</td>\n",
        "    </tr>\n",
        "    <tr>\n",
        "      <th>8 </th>\n",
        "      <td> PRCITSHP</td>\n",
        "      <td> 0.019836</td>\n",
        "    </tr>\n",
        "    <tr>\n",
        "      <th>4 </th>\n",
        "      <td>    ARACE</td>\n",
        "      <td> 0.019290</td>\n",
        "    </tr>\n",
        "    <tr>\n",
        "      <th>9 </th>\n",
        "      <td>    VETYN</td>\n",
        "      <td> 0.004251</td>\n",
        "    </tr>\n",
        "  </tbody>\n",
        "</table>\n",
        "</div>"
       ],
       "metadata": {},
       "output_type": "pyout",
       "prompt_number": 43,
       "text": [
        "           0         1\n",
        "10      AAGE  0.201024\n",
        "14    DIVVAL  0.131325\n",
        "12   CAPGAIN  0.114430\n",
        "1       AHGA  0.099647\n",
        "5      NOEMP  0.082634\n",
        "15   WKSWORK  0.065586\n",
        "0    ACLSWKR  0.058205\n",
        "3    AWKSTAT  0.045919\n",
        "13   CAPLOSS  0.037987\n",
        "6       ASEX  0.037637\n",
        "2    AMARITL  0.033640\n",
        "7     HHDREL  0.026464\n",
        "11   AHRSPAY  0.022125\n",
        "8   PRCITSHP  0.019836\n",
        "4      ARACE  0.019290\n",
        "9      VETYN  0.004251"
       ]
      }
     ],
     "prompt_number": 43
    },
    {
     "cell_type": "markdown",
     "metadata": {},
     "source": [
      "We can see that Age, capital gains and dividends as well as education are the primarly explaining factors.\n",
      "\n",
      "The fact that age is important is consistent with our earlier chart showing that as age advances, people are more likely to earn more than 50k\u20ac.\n",
      "\n",
      "The importance of capital gains is relative, according to our earlier description of the dataset, at least 80% of the people that have high income don't have any capital gain. However, those wo do are almost guaranteed to have an high income.\n",
      "\n",
      "Below are some charts validating our explanation.\n"
     ]
    },
    {
     "cell_type": "code",
     "collapsed": false,
     "input": [
      "PLOT_NOEMP= pd.crosstab(data_test.NOEMP,data_test.PTOTVAL)\n",
      "PLOT_AHGA= pd.crosstab(data_test.AHGA,data_test.PTOTVAL)\n",
      "PLOT_ACLSWKR= pd.crosstab(data_test.ACLSWKR,data_test.PTOTVAL)\n",
      "PLOT_ASEX= pd.crosstab(data_test.ASEX,data_test.PTOTVAL)\n",
      "PLOT_AWKSTAT= pd.crosstab(data.AWKSTAT,data.PTOTVAL)\n",
      "\n",
      "plt.figure()\n",
      "(PLOT_NOEMP/PLOT_NOEMP.sum()).sort(columns=1).plot(kind='bar')\n",
      "plt.suptitle(\"Income Distribution by Company size\")\n",
      "plt.xlabel('Company Size')\n",
      "plt.ylabel('Distribution')\n",
      "plt.legend(bbox_to_anchor=(1.2, 1), loc=2, borderaxespad=0.)\n",
      "plt.show()\n",
      "\n",
      "plt.figure()\n",
      "(PLOT_AHGA/PLOT_AHGA.sum()).sort(columns=1).plot(kind='bar')\n",
      "plt.suptitle(\"Income Distribution by Education\")\n",
      "plt.xlabel('Education lebel')\n",
      "plt.ylabel('Distribution')\n",
      "plt.legend(bbox_to_anchor=(1.2, 1), loc=2, borderaxespad=0.)\n",
      "plt.show()\n",
      "\n",
      "plt.figure()\n",
      "(PLOT_ACLSWKR/PLOT_ACLSWKR.sum()).sort(columns=1).plot(kind='bar')\n",
      "plt.suptitle(\"Income Distribution by Work Status\")\n",
      "plt.xlabel('Work Status')\n",
      "plt.ylabel('Distribution')\n",
      "plt.legend(bbox_to_anchor=(1.2, 1), loc=2, borderaxespad=0.)\n",
      "plt.show()\n",
      "\n",
      "plt.figure()\n",
      "(PLOT_ASEX/PLOT_ASEX.sum()).sort(columns=1).plot(kind='bar')\n",
      "plt.suptitle(\"Income Distribution by Gender\")\n",
      "plt.xlabel('Gender')\n",
      "plt.ylabel('Distribution')\n",
      "plt.legend(bbox_to_anchor=(1.2, 1), loc=2, borderaxespad=0.)\n",
      "plt.show()\n",
      "\n",
      "plt.figure()\n",
      "(PLOT_AWKSTAT/PLOT_AWKSTAT.sum()).sort(columns=1).plot(kind='bar')\n",
      "plt.suptitle(\"Income Distribution by Employment Status\")\n",
      "plt.xlabel('Employment Status')\n",
      "plt.ylabel('Distribution')\n",
      "plt.legend(bbox_to_anchor=(1.2, 1), loc=2, borderaxespad=0.)\n",
      "plt.show()"
     ],
     "language": "python",
     "metadata": {},
     "outputs": [
      {
       "metadata": {},
       "output_type": "display_data",
       "text": [
        "<matplotlib.figure.Figure at 0x7ff946df1910>"
       ]
      },
      {
       "metadata": {},
       "output_type": "display_data",
       "png": "[encoded data removed]",
       "text": [
        "<matplotlib.figure.Figure at 0x7ff9469a31d0>"
       ]
      },
      {
       "metadata": {},
       "output_type": "display_data",
       "text": [
        "<matplotlib.figure.Figure at 0x7ff9469aea90>"
       ]
      },
      {
       "metadata": {},
       "output_type": "display_data",
       "png": "[encoded data removed]",
       "text": [
        "<matplotlib.figure.Figure at 0x7ff9467d2750>"
       ]
      },
      {
       "metadata": {},
       "output_type": "display_data",
       "text": [
        "<matplotlib.figure.Figure at 0x7ff946c97d10>"
       ]
      },
      {
       "metadata": {},
       "output_type": "display_data",
       "png": "[encoded data removed]",
       "text": [
        "<matplotlib.figure.Figure at 0x7ff946ca0950>"
       ]
      },
      {
       "metadata": {},
       "output_type": "display_data",
       "text": [
        "<matplotlib.figure.Figure at 0x7ff94667e410>"
       ]
      },
      {
       "metadata": {},
       "output_type": "display_data",
       "png": "[encoded data removed]",
       "text": [
        "<matplotlib.figure.Figure at 0x7ff93fca4790>"
       ]
      },
      {
       "metadata": {},
       "output_type": "display_data",
       "text": [
        "<matplotlib.figure.Figure at 0x7ff93fea9910>"
       ]
      },
      {
       "metadata": {},
       "output_type": "display_data",
       "png": "[encoded data removed]",
       "text": [
        "<matplotlib.figure.Figure at 0x7ff9466ab490>"
       ]
      }
     ],
     "prompt_number": 44
    },
    {
     "cell_type": "markdown",
     "metadata": {},
     "source": [
      "From those charts we can deduce that :\n",
      " \n",
      " 1. The bigger the company, the more likely a person earns a lot.\n",
      " 1. Most of the high incomes have at least a bachelor degree even if it is not compulsory.\n",
      " 1. The private sector concentrate the most people (both high and low income). Self-employment seems to give a higher chance of a high income.\n",
      " 1. The gender gap appears in our Dataset as men can expect to earn more than women.\n",
      " 1. Most of the High income work full-time\n",
      "\n",
      "The typical high income is then an educated man, probably working full-time in a big company in private sector or by himself."
     ]
    },
    {
     "cell_type": "heading",
     "level": 2,
     "metadata": {},
     "source": [
      "Conclusion"
     ]
    },
    {
     "cell_type": "markdown",
     "metadata": {},
     "source": [
      "We got a model that overfitted the learning set and is not wrong when it dares to predicts but lacks some features to find all targets.\n",
      "\n",
      "There is probably more work to do on the Data cleaning. They are too much children that appear in the model and some features have maybe be discarded too quickly in the beginning of the process.\n",
      "\n",
      "The NaN values should maybe be handled differently, if I had to continue this work further, I would probably try to see if I can fill the missing data rather than just set them to NaN.\n",
      "\n",
      "The challenging tasks were clearly to clean the dataset as well as finding a way to visually explore the data."
     ]
    }
   ],
   "metadata": {}
  }
 ]
}